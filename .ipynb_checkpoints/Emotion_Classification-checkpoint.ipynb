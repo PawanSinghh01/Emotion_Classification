{
 "cells": [
  {
   "cell_type": "code",
   "execution_count": 1,
   "id": "909cc6ed-df34-448c-acfa-50f0eefcd62c",
   "metadata": {},
   "outputs": [],
   "source": [
    "import os\n",
    "\n",
    "speech_path = \"Audio/Audio_Speech_Actors_01-24\"\n",
    "song_path = \"Audio/Audio_Song_Actors_01-24\"\n",
    "\n",
    "emotion_labels = {\n",
    "    '01': 'neutral',\n",
    "    '02': 'calm',\n",
    "    '03': 'happy',\n",
    "    '04': 'sad',\n",
    "    '05': 'angry',\n",
    "    '06': 'fearful',\n",
    "    '07': 'disgust',\n",
    "    '08': 'surprised'\n",
    "}\n"
   ]
  },
  {
   "cell_type": "code",
   "execution_count": 2,
   "id": "c6a32bc0-f60a-4c73-b304-e6d87a403562",
   "metadata": {},
   "outputs": [],
   "source": [
    "import librosa\n",
    "import numpy as np\n",
    "\n",
    "def extract_features(file_path):\n",
    "    X, sample_rate = librosa.load(file_path, sr=None, duration=3, res_type='kaiser_fast')\n",
    "    features = []\n",
    "\n",
    "    # MFCC\n",
    "    mfcc = librosa.feature.mfcc(y=X, sr=sample_rate, n_mfcc=40)\n",
    "    features.extend(np.mean(mfcc.T, axis=0))\n",
    "\n",
    "    # Chroma\n",
    "    stft = np.abs(librosa.stft(X))\n",
    "    chroma = librosa.feature.chroma_stft(S=stft, sr=sample_rate)\n",
    "    features.extend(np.mean(chroma.T, axis=0))\n",
    "\n",
    "    # Mel Spectrogram\n",
    "    mel = librosa.feature.melspectrogram(y=X, sr=sample_rate)\n",
    "    features.extend(np.mean(mel.T, axis=0))\n",
    "\n",
    "    # Contrast\n",
    "    contrast = librosa.feature.spectral_contrast(S=stft, sr=sample_rate)\n",
    "    features.extend(np.mean(contrast.T, axis=0))\n",
    "\n",
    "    # Tonnetz\n",
    "    y_harmonic = librosa.effects.harmonic(X)\n",
    "    tonnetz = librosa.feature.tonnetz(y=y_harmonic, sr=sample_rate)\n",
    "    features.extend(np.mean(tonnetz.T, axis=0))\n",
    "\n",
    "    return features\n"
   ]
  },
  {
   "cell_type": "code",
   "execution_count": 3,
   "id": "6c6fca4e-ce8a-4815-a9c3-6106114aac73",
   "metadata": {},
   "outputs": [
    {
     "name": "stderr",
     "output_type": "stream",
     "text": [
      "Loading from Audio_Speech_Actors_01-24: 0it [00:00, ?it/s]\n",
      "Loading from Audio_Speech_Actors_01-24:   0%|                                                   | 0/60 [00:00<?, ?it/s]C:\\Users\\DELL\\anaconda3\\Lib\\site-packages\\paramiko\\pkey.py:82: CryptographyDeprecationWarning: TripleDES has been moved to cryptography.hazmat.decrepit.ciphers.algorithms.TripleDES and will be removed from this module in 48.0.0.\n",
      "  \"cipher\": algorithms.TripleDES,\n",
      "C:\\Users\\DELL\\anaconda3\\Lib\\site-packages\\paramiko\\transport.py:219: CryptographyDeprecationWarning: Blowfish has been moved to cryptography.hazmat.decrepit.ciphers.algorithms.Blowfish and will be removed from this module in 45.0.0.\n",
      "  \"class\": algorithms.Blowfish,\n",
      "C:\\Users\\DELL\\anaconda3\\Lib\\site-packages\\paramiko\\transport.py:243: CryptographyDeprecationWarning: TripleDES has been moved to cryptography.hazmat.decrepit.ciphers.algorithms.TripleDES and will be removed from this module in 48.0.0.\n",
      "  \"class\": algorithms.TripleDES,\n",
      "Loading from Audio_Speech_Actors_01-24: 100%|██████████████████████████████████████████| 60/60 [01:55<00:00,  1.93s/it]\n",
      "Loading from Audio_Speech_Actors_01-24: 100%|██████████████████████████████████████████| 60/60 [01:25<00:00,  1.42s/it]\n",
      "Loading from Audio_Speech_Actors_01-24: 100%|██████████████████████████████████████████| 60/60 [01:31<00:00,  1.53s/it]\n",
      "Loading from Audio_Speech_Actors_01-24: 100%|██████████████████████████████████████████| 60/60 [01:28<00:00,  1.48s/it]\n",
      "Loading from Audio_Speech_Actors_01-24: 100%|██████████████████████████████████████████| 60/60 [01:32<00:00,  1.54s/it]\n",
      "Loading from Audio_Speech_Actors_01-24: 100%|██████████████████████████████████████████| 60/60 [01:29<00:00,  1.50s/it]\n",
      "Loading from Audio_Speech_Actors_01-24: 100%|██████████████████████████████████████████| 60/60 [01:30<00:00,  1.52s/it]\n",
      "Loading from Audio_Speech_Actors_01-24: 100%|██████████████████████████████████████████| 60/60 [01:27<00:00,  1.47s/it]\n",
      "Loading from Audio_Speech_Actors_01-24: 100%|██████████████████████████████████████████| 60/60 [01:23<00:00,  1.39s/it]\n",
      "Loading from Audio_Speech_Actors_01-24: 100%|██████████████████████████████████████████| 60/60 [01:28<00:00,  1.48s/it]\n",
      "Loading from Audio_Speech_Actors_01-24: 100%|██████████████████████████████████████████| 60/60 [01:30<00:00,  1.51s/it]\n",
      "Loading from Audio_Speech_Actors_01-24: 100%|██████████████████████████████████████████| 60/60 [01:31<00:00,  1.52s/it]\n",
      "Loading from Audio_Speech_Actors_01-24: 100%|██████████████████████████████████████████| 60/60 [01:31<00:00,  1.53s/it]\n",
      "Loading from Audio_Speech_Actors_01-24: 100%|██████████████████████████████████████████| 60/60 [01:27<00:00,  1.45s/it]\n",
      "Loading from Audio_Speech_Actors_01-24: 100%|██████████████████████████████████████████| 60/60 [01:43<00:00,  1.72s/it]\n",
      "Loading from Audio_Speech_Actors_01-24: 100%|██████████████████████████████████████████| 60/60 [01:32<00:00,  1.54s/it]\n",
      "Loading from Audio_Speech_Actors_01-24: 100%|██████████████████████████████████████████| 60/60 [01:29<00:00,  1.49s/it]\n",
      "Loading from Audio_Speech_Actors_01-24: 100%|██████████████████████████████████████████| 60/60 [01:30<00:00,  1.50s/it]\n",
      "Loading from Audio_Speech_Actors_01-24: 100%|██████████████████████████████████████████| 60/60 [01:27<00:00,  1.46s/it]\n",
      "Loading from Audio_Speech_Actors_01-24: 100%|██████████████████████████████████████████| 60/60 [01:24<00:00,  1.41s/it]\n",
      "Loading from Audio_Speech_Actors_01-24: 100%|██████████████████████████████████████████| 60/60 [01:27<00:00,  1.46s/it]\n",
      "Loading from Audio_Speech_Actors_01-24: 100%|██████████████████████████████████████████| 60/60 [01:34<00:00,  1.57s/it]\n",
      "Loading from Audio_Speech_Actors_01-24: 100%|██████████████████████████████████████████| 60/60 [01:36<00:00,  1.60s/it]\n",
      "Loading from Audio_Speech_Actors_01-24: 100%|██████████████████████████████████████████| 60/60 [01:24<00:00,  1.40s/it]\n",
      "Loading from Audio_Song_Actors_01-24: 0it [00:00, ?it/s]\n",
      "Loading from Audio_Song_Actors_01-24: 100%|████████████████████████████████████████████| 44/44 [01:04<00:00,  1.48s/it]\n",
      "Loading from Audio_Song_Actors_01-24: 100%|████████████████████████████████████████████| 44/44 [01:06<00:00,  1.52s/it]\n",
      "Loading from Audio_Song_Actors_01-24: 100%|████████████████████████████████████████████| 44/44 [01:07<00:00,  1.53s/it]\n",
      "Loading from Audio_Song_Actors_01-24: 100%|████████████████████████████████████████████| 44/44 [01:04<00:00,  1.46s/it]\n",
      "Loading from Audio_Song_Actors_01-24: 100%|████████████████████████████████████████████| 44/44 [01:06<00:00,  1.52s/it]\n",
      "Loading from Audio_Song_Actors_01-24: 100%|████████████████████████████████████████████| 44/44 [01:06<00:00,  1.51s/it]\n",
      "Loading from Audio_Song_Actors_01-24: 100%|████████████████████████████████████████████| 44/44 [01:05<00:00,  1.49s/it]\n",
      "Loading from Audio_Song_Actors_01-24: 100%|████████████████████████████████████████████| 44/44 [01:06<00:00,  1.51s/it]\n",
      "Loading from Audio_Song_Actors_01-24: 100%|████████████████████████████████████████████| 44/44 [01:07<00:00,  1.53s/it]\n",
      "Loading from Audio_Song_Actors_01-24: 100%|████████████████████████████████████████████| 44/44 [01:08<00:00,  1.55s/it]\n",
      "Loading from Audio_Song_Actors_01-24: 100%|████████████████████████████████████████████| 44/44 [01:07<00:00,  1.53s/it]\n",
      "Loading from Audio_Song_Actors_01-24: 100%|████████████████████████████████████████████| 44/44 [01:04<00:00,  1.46s/it]\n",
      "Loading from Audio_Song_Actors_01-24: 100%|████████████████████████████████████████████| 44/44 [01:07<00:00,  1.53s/it]\n",
      "Loading from Audio_Song_Actors_01-24: 100%|████████████████████████████████████████████| 44/44 [01:01<00:00,  1.40s/it]\n",
      "Loading from Audio_Song_Actors_01-24: 100%|████████████████████████████████████████████| 44/44 [01:05<00:00,  1.48s/it]\n",
      "Loading from Audio_Song_Actors_01-24: 100%|████████████████████████████████████████████| 44/44 [01:04<00:00,  1.46s/it]\n",
      "Loading from Audio_Song_Actors_01-24: 100%|████████████████████████████████████████████| 44/44 [01:08<00:00,  1.55s/it]\n",
      "Loading from Audio_Song_Actors_01-24: 0it [00:00, ?it/s]\n",
      "Loading from Audio_Song_Actors_01-24: 100%|████████████████████████████████████████████| 44/44 [01:08<00:00,  1.55s/it]\n",
      "Loading from Audio_Song_Actors_01-24: 100%|████████████████████████████████████████████| 44/44 [01:01<00:00,  1.39s/it]\n",
      "Loading from Audio_Song_Actors_01-24: 100%|████████████████████████████████████████████| 44/44 [01:07<00:00,  1.54s/it]\n",
      "Loading from Audio_Song_Actors_01-24: 100%|████████████████████████████████████████████| 44/44 [01:02<00:00,  1.41s/it]\n",
      "Loading from Audio_Song_Actors_01-24: 100%|████████████████████████████████████████████| 44/44 [01:03<00:00,  1.45s/it]\n",
      "Loading from Audio_Song_Actors_01-24: 100%|████████████████████████████████████████████| 44/44 [01:07<00:00,  1.53s/it]\n"
     ]
    }
   ],
   "source": [
    "from tqdm import tqdm\n",
    "\n",
    "def parse_emotion(filename):\n",
    "    parts = filename.split(\"-\")\n",
    "    return emotion_labels[parts[2]]\n",
    "\n",
    "def load_data_from_folder(folder_path):\n",
    "    X, y = [], []\n",
    "    for root, _, files in os.walk(folder_path):\n",
    "        for file in tqdm(files, desc=f\"Loading from {os.path.basename(folder_path)}\"):\n",
    "            if file.endswith(\".wav\"):\n",
    "                try:\n",
    "                    file_path = os.path.join(root, file)\n",
    "                    emotion = parse_emotion(file)\n",
    "                    features = extract_features(file_path)\n",
    "                    X.append(features)\n",
    "                    y.append(emotion)\n",
    "                except Exception as e:\n",
    "                    print(f\"Error processing {file_path}: {e}\")\n",
    "    return X, y\n",
    "\n",
    "X_speech, y_speech = load_data_from_folder(speech_path)\n",
    "X_song, y_song = load_data_from_folder(song_path)\n",
    "\n",
    "X = np.array(X_speech + X_song)\n",
    "y = np.array(y_speech + y_song)\n"
   ]
  },
  {
   "cell_type": "code",
   "execution_count": 9,
   "id": "1d9a2fd9-a6fb-488b-ad9d-c1275a6166b3",
   "metadata": {},
   "outputs": [
    {
     "name": "stdout",
     "output_type": "stream",
     "text": [
      "Original feature matrix shape: (2452, 193)\n"
     ]
    }
   ],
   "source": [
    "print(\"Original feature matrix shape:\", X.shape)"
   ]
  },
  {
   "cell_type": "code",
   "execution_count": 297,
   "id": "5a89611e-b9f5-456b-9b3f-65d81b6c039f",
   "metadata": {},
   "outputs": [],
   "source": [
    "from sklearn.preprocessing import LabelEncoder, MinMaxScaler\n",
    "from sklearn.model_selection import train_test_split\n",
    "\n",
    "le = LabelEncoder()\n",
    "y_encoded = le.fit_transform(y)\n",
    "\n",
    "scaler = MinMaxScaler()\n",
    "X_scaled = scaler.fit_transform(X)\n",
    "\n",
    "X_train, X_test, y_train, y_test = train_test_split(\n",
    "    X_scaled, y_encoded, test_size=0.20, stratify=y_encoded, random_state=42\n",
    ")\n"
   ]
  },
  {
   "cell_type": "code",
   "execution_count": 298,
   "id": "e283b71b-8b53-4025-bf3e-d63d773a5df0",
   "metadata": {},
   "outputs": [],
   "source": [
    "from imblearn.over_sampling import SMOTE\n",
    "\n",
    "sm = SMOTE(random_state=42)\n",
    "X_train, y_train = sm.fit_resample(X_train, y_train)\n"
   ]
  },
  {
   "cell_type": "code",
   "execution_count": 299,
   "id": "9e750f2f-7fb6-499b-b45d-423191633d96",
   "metadata": {},
   "outputs": [
    {
     "name": "stdout",
     "output_type": "stream",
     "text": [
      "Final shape after PCA: (2408, 193), (491, 193)\n"
     ]
    }
   ],
   "source": [
    "from sklearn.decomposition import PCA\n",
    "from tensorflow.keras.utils import to_categorical\n",
    "\n",
    "pca = PCA(n_components=193)\n",
    "X_train = pca.fit_transform(X_train)\n",
    "X_test = pca.transform(X_test)\n",
    "\n",
    "y_train = to_categorical(y_train)\n",
    "y_test = to_categorical(y_test)\n",
    "\n",
    "print(f\"Final shape after PCA: {X_train.shape}, {X_test.shape}\")\n"
   ]
  },
  {
   "cell_type": "code",
   "execution_count": 300,
   "id": "e83ae49a-7927-48fc-9b7e-0d85f51d8235",
   "metadata": {},
   "outputs": [],
   "source": [
    "from sklearn.utils.class_weight import compute_class_weight\n",
    "import numpy as np\n",
    "\n",
    "y_train_labels = np.argmax(y_train, axis=1)\n",
    "\n",
    "class_weights = compute_class_weight(\n",
    "    class_weight='balanced',\n",
    "    classes=np.unique(y_train_labels),\n",
    "    y=y_train_labels\n",
    ")\n",
    "\n",
    "class_weight_dict = dict(enumerate(class_weights))\n"
   ]
  },
  {
   "cell_type": "code",
   "execution_count": 301,
   "id": "98020151-4b5f-482c-8fb3-f2de667fed32",
   "metadata": {},
   "outputs": [],
   "source": [
    "import tensorflow.keras.backend as K\n",
    "import tensorflow as tf\n",
    "\n",
    "def categorical_focal_loss_custom(gamma=2.0, alpha_vec=None):\n",
    "    def loss(y_true, y_pred):\n",
    "        epsilon = K.epsilon()\n",
    "        y_pred = K.clip(y_pred, epsilon, 1. - epsilon)\n",
    "\n",
    "        cross_entropy = -y_true * K.log(y_pred)\n",
    "\n",
    "        if alpha_vec is not None:\n",
    "            alpha = tf.constant(alpha_vec, dtype=tf.float32)\n",
    "            alpha = tf.reshape(alpha, (1, -1))  # reshape to broadcast\n",
    "            focal_loss = alpha * K.pow(1 - y_pred, gamma) * cross_entropy\n",
    "        else:\n",
    "            focal_loss = K.pow(1 - y_pred, gamma) * cross_entropy\n",
    "\n",
    "        return K.sum(focal_loss, axis=1)\n",
    "    return loss\n"
   ]
  },
  {
   "cell_type": "code",
   "execution_count": 302,
   "id": "d77675e2-4847-4e17-9753-7d99e616d00b",
   "metadata": {},
   "outputs": [
    {
     "name": "stdout",
     "output_type": "stream",
     "text": [
      "['angry' 'calm' 'disgust' 'fearful' 'happy' 'neutral' 'sad' 'surprised']\n"
     ]
    }
   ],
   "source": [
    "print(le.classes_)\n"
   ]
  },
  {
   "cell_type": "code",
   "execution_count": 330,
   "id": "b97dc84a-5f17-4485-9356-130dfa80e5bf",
   "metadata": {},
   "outputs": [],
   "source": [
    "alpha_vec = [1, 1, 1, 2, 1, 1, 2, 1]  # fearful and sad get more weight\n"
   ]
  },
  {
   "cell_type": "code",
   "execution_count": 335,
   "id": "d8b4e035-f4e5-4856-bb1d-3df1c5cb9008",
   "metadata": {},
   "outputs": [
    {
     "name": "stdout",
     "output_type": "stream",
     "text": [
      "Epoch 1/60\n",
      "76/76 - 20s - 258ms/step - accuracy: 0.2762 - loss: 3.0738 - val_accuracy: 0.1792 - val_loss: 2.7865 - learning_rate: 0.0010\n",
      "Epoch 2/60\n",
      "76/76 - 2s - 23ms/step - accuracy: 0.4169 - loss: 2.3096 - val_accuracy: 0.2749 - val_loss: 2.6109 - learning_rate: 0.0010\n",
      "Epoch 3/60\n",
      "76/76 - 1s - 19ms/step - accuracy: 0.5021 - loss: 1.9681 - val_accuracy: 0.3136 - val_loss: 2.3907 - learning_rate: 0.0010\n",
      "Epoch 4/60\n",
      "76/76 - 2s - 21ms/step - accuracy: 0.5669 - loss: 1.7617 - val_accuracy: 0.4053 - val_loss: 2.1833 - learning_rate: 0.0010\n",
      "Epoch 5/60\n",
      "76/76 - 2s - 23ms/step - accuracy: 0.5893 - loss: 1.6887 - val_accuracy: 0.4603 - val_loss: 1.9592 - learning_rate: 0.0010\n",
      "Epoch 6/60\n",
      "76/76 - 2s - 22ms/step - accuracy: 0.6125 - loss: 1.6050 - val_accuracy: 0.5519 - val_loss: 1.7272 - learning_rate: 0.0010\n",
      "Epoch 7/60\n",
      "76/76 - 2s - 24ms/step - accuracy: 0.6607 - loss: 1.4656 - val_accuracy: 0.5784 - val_loss: 1.5855 - learning_rate: 0.0010\n",
      "Epoch 8/60\n",
      "76/76 - 2s - 22ms/step - accuracy: 0.6856 - loss: 1.3920 - val_accuracy: 0.6578 - val_loss: 1.4557 - learning_rate: 0.0010\n",
      "Epoch 9/60\n",
      "76/76 - 2s - 24ms/step - accuracy: 0.6923 - loss: 1.3342 - val_accuracy: 0.6762 - val_loss: 1.3972 - learning_rate: 0.0010\n",
      "Epoch 10/60\n",
      "76/76 - 2s - 30ms/step - accuracy: 0.7438 - loss: 1.2275 - val_accuracy: 0.6864 - val_loss: 1.3028 - learning_rate: 0.0010\n",
      "Epoch 11/60\n",
      "76/76 - 2s - 21ms/step - accuracy: 0.7413 - loss: 1.2133 - val_accuracy: 0.7067 - val_loss: 1.2834 - learning_rate: 0.0010\n",
      "Epoch 12/60\n",
      "76/76 - 2s - 20ms/step - accuracy: 0.7604 - loss: 1.1693 - val_accuracy: 0.7108 - val_loss: 1.2693 - learning_rate: 0.0010\n",
      "Epoch 13/60\n",
      "76/76 - 2s - 22ms/step - accuracy: 0.7733 - loss: 1.1174 - val_accuracy: 0.7189 - val_loss: 1.2384 - learning_rate: 0.0010\n",
      "Epoch 14/60\n",
      "76/76 - 2s - 21ms/step - accuracy: 0.7949 - loss: 1.0761 - val_accuracy: 0.7495 - val_loss: 1.1698 - learning_rate: 0.0010\n",
      "Epoch 15/60\n",
      "76/76 - 2s - 21ms/step - accuracy: 0.8023 - loss: 1.0264 - val_accuracy: 0.7210 - val_loss: 1.2276 - learning_rate: 0.0010\n",
      "Epoch 16/60\n",
      "76/76 - 2s - 21ms/step - accuracy: 0.7961 - loss: 1.0262 - val_accuracy: 0.7312 - val_loss: 1.2267 - learning_rate: 0.0010\n",
      "Epoch 17/60\n",
      "76/76 - 2s - 22ms/step - accuracy: 0.8077 - loss: 1.0017 - val_accuracy: 0.7067 - val_loss: 1.1734 - learning_rate: 0.0010\n",
      "Epoch 18/60\n",
      "76/76 - 2s - 21ms/step - accuracy: 0.8497 - loss: 0.9264 - val_accuracy: 0.7373 - val_loss: 1.1674 - learning_rate: 0.0010\n",
      "Epoch 19/60\n",
      "76/76 - 1s - 17ms/step - accuracy: 0.8335 - loss: 0.9340 - val_accuracy: 0.7434 - val_loss: 1.1917 - learning_rate: 0.0010\n",
      "Epoch 20/60\n",
      "76/76 - 1s - 20ms/step - accuracy: 0.8422 - loss: 0.9074 - val_accuracy: 0.7454 - val_loss: 1.1206 - learning_rate: 0.0010\n",
      "Epoch 21/60\n",
      "76/76 - 2s - 21ms/step - accuracy: 0.8559 - loss: 0.8684 - val_accuracy: 0.7719 - val_loss: 1.0924 - learning_rate: 0.0010\n",
      "Epoch 22/60\n",
      "76/76 - 1s - 17ms/step - accuracy: 0.8488 - loss: 0.8609 - val_accuracy: 0.7597 - val_loss: 1.1171 - learning_rate: 0.0010\n",
      "Epoch 23/60\n",
      "76/76 - 2s - 21ms/step - accuracy: 0.8484 - loss: 0.8558 - val_accuracy: 0.7332 - val_loss: 1.1252 - learning_rate: 0.0010\n",
      "Epoch 24/60\n",
      "76/76 - 2s - 21ms/step - accuracy: 0.8634 - loss: 0.8071 - val_accuracy: 0.7536 - val_loss: 1.0900 - learning_rate: 0.0010\n",
      "Epoch 25/60\n",
      "76/76 - 2s - 21ms/step - accuracy: 0.8671 - loss: 0.8167 - val_accuracy: 0.7515 - val_loss: 1.1103 - learning_rate: 0.0010\n",
      "Epoch 26/60\n",
      "76/76 - 2s - 21ms/step - accuracy: 0.8808 - loss: 0.7683 - val_accuracy: 0.7536 - val_loss: 1.0682 - learning_rate: 0.0010\n",
      "Epoch 27/60\n",
      "76/76 - 1s - 16ms/step - accuracy: 0.8895 - loss: 0.7560 - val_accuracy: 0.7760 - val_loss: 1.0536 - learning_rate: 0.0010\n",
      "Epoch 28/60\n",
      "76/76 - 1s - 18ms/step - accuracy: 0.8958 - loss: 0.7131 - val_accuracy: 0.7617 - val_loss: 1.0806 - learning_rate: 0.0010\n",
      "Epoch 29/60\n",
      "76/76 - 1s - 17ms/step - accuracy: 0.8812 - loss: 0.7369 - val_accuracy: 0.7434 - val_loss: 1.0300 - learning_rate: 0.0010\n",
      "Epoch 30/60\n",
      "76/76 - 1s - 17ms/step - accuracy: 0.8958 - loss: 0.7106 - val_accuracy: 0.7597 - val_loss: 1.0419 - learning_rate: 0.0010\n",
      "Epoch 31/60\n",
      "76/76 - 1s - 18ms/step - accuracy: 0.8983 - loss: 0.6837 - val_accuracy: 0.7678 - val_loss: 0.9966 - learning_rate: 0.0010\n",
      "Epoch 32/60\n",
      "76/76 - 2s - 21ms/step - accuracy: 0.9086 - loss: 0.6671 - val_accuracy: 0.7963 - val_loss: 0.9744 - learning_rate: 0.0010\n",
      "Epoch 33/60\n",
      "76/76 - 2s - 21ms/step - accuracy: 0.9107 - loss: 0.6584 - val_accuracy: 0.7556 - val_loss: 1.0495 - learning_rate: 0.0010\n",
      "Epoch 34/60\n",
      "76/76 - 2s - 21ms/step - accuracy: 0.8995 - loss: 0.6645 - val_accuracy: 0.7658 - val_loss: 1.0495 - learning_rate: 0.0010\n",
      "Epoch 35/60\n",
      "76/76 - 2s - 22ms/step - accuracy: 0.9128 - loss: 0.6273 - val_accuracy: 0.7678 - val_loss: 1.0798 - learning_rate: 0.0010\n",
      "Epoch 36/60\n",
      "76/76 - 2s - 21ms/step - accuracy: 0.8991 - loss: 0.6328 - val_accuracy: 0.7678 - val_loss: 1.0081 - learning_rate: 0.0010\n",
      "Epoch 37/60\n",
      "\n",
      "Epoch 37: ReduceLROnPlateau reducing learning rate to 0.0005000000237487257.\n",
      "76/76 - 2s - 22ms/step - accuracy: 0.9115 - loss: 0.6117 - val_accuracy: 0.7882 - val_loss: 0.9752 - learning_rate: 0.0010\n",
      "Epoch 38/60\n",
      "76/76 - 2s - 20ms/step - accuracy: 0.9219 - loss: 0.5949 - val_accuracy: 0.7902 - val_loss: 0.9265 - learning_rate: 5.0000e-04\n",
      "Epoch 39/60\n",
      "76/76 - 2s - 21ms/step - accuracy: 0.9473 - loss: 0.5410 - val_accuracy: 0.7923 - val_loss: 0.9566 - learning_rate: 5.0000e-04\n",
      "Epoch 40/60\n",
      "76/76 - 2s - 21ms/step - accuracy: 0.9435 - loss: 0.5304 - val_accuracy: 0.7963 - val_loss: 0.9239 - learning_rate: 5.0000e-04\n",
      "Epoch 41/60\n",
      "76/76 - 2s - 21ms/step - accuracy: 0.9506 - loss: 0.5238 - val_accuracy: 0.7943 - val_loss: 0.9043 - learning_rate: 5.0000e-04\n",
      "Epoch 42/60\n",
      "76/76 - 2s - 21ms/step - accuracy: 0.9448 - loss: 0.5246 - val_accuracy: 0.7902 - val_loss: 0.8939 - learning_rate: 5.0000e-04\n",
      "Epoch 43/60\n",
      "76/76 - 2s - 22ms/step - accuracy: 0.9468 - loss: 0.4965 - val_accuracy: 0.7821 - val_loss: 0.9230 - learning_rate: 5.0000e-04\n",
      "Epoch 44/60\n",
      "76/76 - 2s - 24ms/step - accuracy: 0.9448 - loss: 0.5114 - val_accuracy: 0.7943 - val_loss: 0.9460 - learning_rate: 5.0000e-04\n",
      "Epoch 45/60\n",
      "76/76 - 2s - 23ms/step - accuracy: 0.9489 - loss: 0.4956 - val_accuracy: 0.7780 - val_loss: 0.9017 - learning_rate: 5.0000e-04\n",
      "Epoch 46/60\n",
      "\n",
      "🎯 Reached 0.80 validation accuracy. Stopping training!\n",
      "76/76 - 2s - 22ms/step - accuracy: 0.9676 - loss: 0.4522 - val_accuracy: 0.8004 - val_loss: 0.9014 - learning_rate: 5.0000e-04\n"
     ]
    },
    {
     "data": {
      "text/plain": [
       "<keras.src.callbacks.history.History at 0x1595ba6e660>"
      ]
     },
     "execution_count": 335,
     "metadata": {},
     "output_type": "execute_result"
    }
   ],
   "source": [
    "from tensorflow.keras.optimizers import Adam\n",
    "from tensorflow.keras.callbacks import ReduceLROnPlateau, Callback\n",
    "from tensorflow.keras.models import Sequential\n",
    "from tensorflow.keras.layers import Dense, Dropout\n",
    "from tensorflow.keras.layers import BatchNormalization\n",
    "\n",
    "class StopAtAccuracy(Callback):\n",
    "    def __init__(self, threshold=0.80):\n",
    "        super(StopAtAccuracy, self).__init__()\n",
    "        self.threshold = threshold\n",
    "\n",
    "    def on_epoch_end(self, epoch, logs=None):\n",
    "        val_acc = logs.get(\"val_accuracy\")\n",
    "        if val_acc is not None and val_acc >= self.threshold:\n",
    "            print(f\"\\n🎯 Reached {val_acc:.2f} validation accuracy. Stopping training!\")\n",
    "            self.model.stop_training = True\n",
    "\n",
    "model = Sequential([\n",
    "    Dense(512, activation='relu', input_shape=(X_train.shape[1],),\n",
    "          kernel_regularizer=regularizers.l2(0.001)),\n",
    "    BatchNormalization(),  # ✅ Added here\n",
    "    Dropout(0.3),\n",
    "\n",
    "    Dense(256, activation='relu', kernel_regularizer=regularizers.l2(0.001)),\n",
    "    BatchNormalization(),\n",
    "    Dropout(0.3),\n",
    "\n",
    "    Dense(128, activation='relu', kernel_regularizer=regularizers.l2(0.001)),\n",
    "    BatchNormalization(),\n",
    "    Dropout(0.3),\n",
    "\n",
    "    Dense(64, activation='relu', kernel_regularizer=regularizers.l2(0.001)),\n",
    "    BatchNormalization(),\n",
    "    Dropout(0.2),\n",
    "\n",
    "    Dense(8, activation='softmax')\n",
    "])\n",
    "\n",
    "optimizer = Adam(learning_rate=1e-3)\n",
    "\n",
    "model.compile(\n",
    "    optimizer=optimizer,\n",
    "    loss=categorical_focal_loss_custom(gamma=2.0, alpha_vec=alpha_vec),\n",
    "    metrics=['accuracy']\n",
    ")\n",
    "\n",
    "lr_scheduler = ReduceLROnPlateau(\n",
    "    monitor='val_loss',\n",
    "    factor=0.5,\n",
    "    patience=5,\n",
    "    min_lr=1e-6,\n",
    "    verbose=1\n",
    ")\n",
    "\n",
    "stop_at_acc = StopAtAccuracy(threshold=0.80)\n",
    "\n",
    "model.fit(\n",
    "    X_train, y_train,\n",
    "    validation_data=(X_test, y_test),\n",
    "    epochs=60,\n",
    "    batch_size=32,\n",
    "    class_weight=class_weight_dict,\n",
    "    callbacks=[lr_scheduler, stop_at_acc],  # ✅ include custom callback\n",
    "    verbose=2)"
   ]
  },
  {
   "cell_type": "code",
   "execution_count": 336,
   "id": "cd3e3aed-2266-4b4d-aa8f-25f16f11efea",
   "metadata": {},
   "outputs": [
    {
     "name": "stdout",
     "output_type": "stream",
     "text": [
      "Test Accuracy: 0.8004\n"
     ]
    }
   ],
   "source": [
    "loss, accuracy = model.evaluate(X_test, y_test, verbose=0)\n",
    "print(f\"Test Accuracy: {accuracy:.4f}\")\n"
   ]
  },
  {
   "cell_type": "code",
   "execution_count": 337,
   "id": "9088af57-3d54-489c-8fea-878e155d2294",
   "metadata": {},
   "outputs": [
    {
     "name": "stdout",
     "output_type": "stream",
     "text": [
      "\n",
      "📊 Model Evaluation\n",
      "Test Loss     : 0.9014\n",
      "Test Accuracy : 0.8004\n",
      "\u001b[1m16/16\u001b[0m \u001b[32m━━━━━━━━━━━━━━━━━━━━\u001b[0m\u001b[37m\u001b[0m \u001b[1m1s\u001b[0m 41ms/step\n",
      "Manual Accuracy (np.mean): 0.8004\n",
      "\n",
      "🧾 Classification Report:\n",
      "\n",
      "              precision    recall  f1-score   support\n",
      "\n",
      "       angry     0.8767    0.8533    0.8649        75\n",
      "        calm     0.8714    0.8133    0.8414        75\n",
      "     disgust     0.8500    0.8718    0.8608        39\n",
      "     fearful     0.7000    0.7467    0.7226        75\n",
      "       happy     0.8143    0.7600    0.7862        75\n",
      "     neutral     0.7273    0.8421    0.7805        38\n",
      "         sad     0.7439    0.8133    0.7771        75\n",
      "   surprised     0.8750    0.7179    0.7887        39\n",
      "\n",
      "    accuracy                         0.8004       491\n",
      "   macro avg     0.8073    0.8023    0.8028       491\n",
      "weighted avg     0.8053    0.8004    0.8012       491\n",
      "\n",
      "📌 Per-Class Accuracy:\n",
      "angry     : 0.8533\n",
      "calm      : 0.8133\n",
      "disgust   : 0.8718\n",
      "fearful   : 0.7467\n",
      "happy     : 0.7600\n",
      "neutral   : 0.8421\n",
      "sad       : 0.8133\n",
      "surprised : 0.7179\n",
      "\n",
      "🎯 Macro F1 Score   : 0.8028\n",
      "🎯 Weighted F1 Score: 0.8012\n"
     ]
    },
    {
     "data": {
      "image/png": "[encoded data removed]",
      "text/plain": [
       "<Figure size 1000x800 with 2 Axes>"
      ]
     },
     "metadata": {},
     "output_type": "display_data"
    }
   ],
   "source": [
    "from sklearn.metrics import classification_report, confusion_matrix, f1_score, accuracy_score\n",
    "import numpy as np\n",
    "import seaborn as sns\n",
    "import matplotlib.pyplot as plt\n",
    "\n",
    "loss, accuracy = model.evaluate(X_test, y_test, verbose=0)\n",
    "print(f\"\\n📊 Model Evaluation\")\n",
    "print(f\"Test Loss     : {loss:.4f}\")\n",
    "print(f\"Test Accuracy : {accuracy:.4f}\")\n",
    "\n",
    "y_pred = model.predict(X_test)\n",
    "y_pred_labels = np.argmax(y_pred, axis=1)\n",
    "y_true_labels = np.argmax(y_test, axis=1)\n",
    "\n",
    "manual_accuracy = accuracy_score(y_true_labels, y_pred_labels)\n",
    "print(f\"Manual Accuracy (np.mean): {manual_accuracy:.4f}\")\n",
    "\n",
    "print(\"\\n🧾 Classification Report:\\n\")\n",
    "report = classification_report(\n",
    "    y_true_labels, y_pred_labels, target_names=le.classes_, digits=4, output_dict=True\n",
    ")\n",
    "print(classification_report(y_true_labels, y_pred_labels, target_names=le.classes_, digits=4))\n",
    "\n",
    "print(\"📌 Per-Class Accuracy:\")\n",
    "for i, class_name in enumerate(le.classes_):\n",
    "    class_indices = np.where(y_true_labels == i)[0]\n",
    "    class_accuracy = np.mean(y_pred_labels[class_indices] == y_true_labels[class_indices])\n",
    "    print(f\"{class_name:10s}: {class_accuracy:.4f}\")\n",
    "\n",
    "macro_f1 = f1_score(y_true_labels, y_pred_labels, average='macro')\n",
    "weighted_f1 = f1_score(y_true_labels, y_pred_labels, average='weighted')\n",
    "print(f\"\\n🎯 Macro F1 Score   : {macro_f1:.4f}\")\n",
    "print(f\"🎯 Weighted F1 Score: {weighted_f1:.4f}\")\n",
    "\n",
    "cm = confusion_matrix(y_true_labels, y_pred_labels)\n",
    "plt.figure(figsize=(10, 8))\n",
    "sns.heatmap(cm, annot=True, fmt='d', cmap='Blues',\n",
    "            xticklabels=le.classes_, yticklabels=le.classes_)\n",
    "plt.title(\"Confusion Matrix (Counts)\")\n",
    "plt.xlabel(\"Predicted\")\n",
    "plt.ylabel(\"True\")\n",
    "plt.show()\n",
    "\n"
   ]
  },
  {
   "cell_type": "code",
   "execution_count": 339,
   "id": "8dfc7b43-b4ee-47de-aa26-e7de067581b9",
   "metadata": {},
   "outputs": [
    {
     "name": "stderr",
     "output_type": "stream",
     "text": [
      "WARNING:absl:You are saving your model as an HDF5 file via `model.save()` or `keras.saving.save_model(model)`. This file format is considered legacy. We recommend using instead the native Keras format, e.g. `model.save('my_model.keras')` or `keras.saving.save_model(model, 'my_model.keras')`. \n"
     ]
    }
   ],
   "source": [
    "model.save(\"streamlit_app/model/emotion_model.h5\")\n"
   ]
  },
  {
   "cell_type": "code",
   "execution_count": null,
   "id": "185249ed-eb6c-4c3e-a702-b0be3bc34ef9",
   "metadata": {},
   "outputs": [],
   "source": [
    "import os\n",
    "os.makedirs(\"model\", exist_ok=True)\n",
    "\n",
    "model.save(\"model/emotion_model.h5\")\n",
    "print(\"✅ Model saved at model/emotion_model.h5\")\n"
   ]
  }
 ],
 "metadata": {
  "kernelspec": {
   "display_name": "Python [conda env:base] *",
   "language": "python",
   "name": "conda-base-py"
  },
  "language_info": {
   "codemirror_mode": {
    "name": "ipython",
    "version": 3
   },
   "file_extension": ".py",
   "mimetype": "text/x-python",
   "name": "python",
   "nbconvert_exporter": "python",
   "pygments_lexer": "ipython3",
   "version": "3.12.7"
  }
 },
 "nbformat": 4,
 "nbformat_minor": 5
}
